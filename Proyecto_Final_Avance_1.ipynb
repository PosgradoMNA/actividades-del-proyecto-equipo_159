{
  "cells": [
    {
      "cell_type": "markdown",
      "metadata": {
        "id": "view-in-github",
        "colab_type": "text"
      },
      "source": [
        "<a href=\"https://colab.research.google.com/github/PosgradoMNA/actividades-del-proyecto-equipo_159/blob/main/Proyecto_Final_Avance_1.ipynb\" target=\"_parent\"><img src=\"https://colab.research.google.com/assets/colab-badge.svg\" alt=\"Open In Colab\"/></a>"
      ]
    },
    {
      "cell_type": "markdown",
      "source": [
        "# Proyecto Final de Ciencia y analítica de datos - Avances"
      ],
      "metadata": {
        "id": "fI5KeKlbh-Tr"
      },
      "id": "fI5KeKlbh-Tr"
    },
    {
      "cell_type": "markdown",
      "source": [
        "**Equipo 159:**\n",
        "<br>\n",
        "Daniela Parra García A01633687 <br>\n",
        "Jaime Andrés Palacios Campaña A01794023"
      ],
      "metadata": {
        "id": "Q7tQNFpliNrz"
      },
      "id": "Q7tQNFpliNrz"
    },
    {
      "cell_type": "markdown",
      "source": [
        "**El nombre que caracteriza el conjunto de datos.**\n",
        "<br>\n",
        "Daily Temperature of Major Cities\n",
        "\n"
      ],
      "metadata": {
        "id": "B6_4xOwviE7e"
      },
      "id": "B6_4xOwviE7e"
    },
    {
      "cell_type": "markdown",
      "source": [
        "**La organización que lo generó:**\n",
        "University of Dayton\n"
      ],
      "metadata": {
        "id": "rmMxxNeEidz9"
      },
      "id": "rmMxxNeEidz9"
    },
    {
      "cell_type": "markdown",
      "source": [
        "**Incluya un enlace de Internet donde se puedan descargar el base de datos en línea:**<br>\n",
        "https://www.kaggle.com/datasets/sudalairajkumar/daily-temperature-of-major-cities\n"
      ],
      "metadata": {
        "id": "RNuWHr_Lid9o"
      },
      "id": "RNuWHr_Lid9o"
    },
    {
      "cell_type": "markdown",
      "source": [
        "**Describe el conjunto de datos. ¿Qué datos contiene?**\n",
        "\n",
        "Un conjunto de datos sobre la temperatura de las principales ciudades del mundo ayudará a analizar lo mismo. Además, la información meteorológica es útil para muchas tareas de ciencia de datos, como pronósticos de ventas, logística, etc."
      ],
      "metadata": {
        "id": "LT9PvmSlieDy"
      },
      "id": "LT9PvmSlieDy"
    },
    {
      "cell_type": "markdown",
      "source": [
        "**¿Cuáles son algunas de las preguntas de investigación que podría responder con estos datos? Enumere al menos OCHO (no responda las preguntas)**\n",
        "\n",
        "1. ¿Cuál es el continente, región, país y ciudad que registre altas temperaturas?\n",
        "\n",
        "2. ¿Cuál es el continente, región, país y ciudad que registre bajas temperaturas?\n",
        "\n",
        "3. ¿Cuáles son los países en donde ha aumentado la temperatura a través del tiempo?\n",
        "\n",
        "4. ¿Cuáles son las ciudades donde ha disminuido la temperatura a través del tiempo?\n",
        "\n",
        "5. ¿Cuáles son las regiones, países y ciudades en donde ha variado drásticamente su temperatura en cortos periodos de tiempo?\n",
        "\n",
        "6. ¿Cuál es la variación de temperatura a nivel global en la última década?\n",
        "\n",
        "7. ¿A través de los años la temperatura ha aumentado o disminuido?\n",
        "\n",
        "8. ¿La información de temperatura es útil para otras tareas de pronóstico?\n",
        "9. ¿Cuál fue el país que mantuvo una temperatura promedio por más de tres años?\n",
        "10. ¿Cuál es el país dentro de la región de Europa que registró la temperatura más baja en la última década?\n",
        "11. ¿Qué países dentro de la región de África registraron una temperatura mayor a 90 grados en los últimos 5 años?\n"
      ],
      "metadata": {
        "id": "7JxxIs_YijqC"
      },
      "id": "7JxxIs_YijqC"
    },
    {
      "cell_type": "markdown",
      "source": [
        "**¿Qué actor (empresa, sector de la sociedad, organismo descentralizado, gobierno, etc.) estaría interesado en las preguntas mencionadas que identificó?**\n",
        "\n",
        "Como se explicaba en la descripción de la base de datos, hay muchos sectores a los cuales les puede interesar esta información como entidades gubernamentales de diferentes países para creación de políticas, empresas de logística para determinar rutas, empresas en donde sus ventas dependan del cambio de temperatura (clima), empresas agricultoras y empresas de turismo."
      ],
      "metadata": {
        "id": "pAFkXOm9ijs9"
      },
      "id": "pAFkXOm9ijs9"
    }
  ],
  "metadata": {
    "kernelspec": {
      "display_name": "Python 3 (ipykernel)",
      "language": "python",
      "name": "python3"
    },
    "language_info": {
      "codemirror_mode": {
        "name": "ipython",
        "version": 3
      },
      "file_extension": ".py",
      "mimetype": "text/x-python",
      "name": "python",
      "nbconvert_exporter": "python",
      "pygments_lexer": "ipython3",
      "version": "3.9.12"
    },
    "colab": {
      "provenance": [],
      "collapsed_sections": [],
      "include_colab_link": true
    }
  },
  "nbformat": 4,
  "nbformat_minor": 5
}